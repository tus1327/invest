{
 "cells": [
  {
   "metadata": {},
   "cell_type": "markdown",
   "source": [
    "연금 전환시\n",
    "\n",
    "연금수령한도\n",
    "$\\frac{연금계좌 평가액}{11 - 연금수령 연차} \\times 120\\%$\n",
    "\n",
    "퇴직연금은 수령한도 내에서 찾을시에 30% 감면\n",
    "\n",
    "[연금인출순서](https://www.pwc.com/kr/ko/insights/issue-brief/retirement-pension4.png)\n"
   ]
  },
  {
   "metadata": {},
   "cell_type": "markdown",
   "source": [
    "ㅂ연금 = 국민연금 + 퇴직연금(IRP) + 개인연금\n",
    "\n",
    "### 세액공제\n",
    "![](https://mybiz.pay.naver.com/api/files/202402/8-2-1926172304.png)\n",
    "### 과세이연\n",
    "- 국민연금 : 납부시 전액 소득공제\n",
    "- 연금계좌에서 발생한 소득에 대해 즉시 세금을 부과하지 않고, 연금 개시 후 연금액에 따라 세금 부과\n",
    "### 저율과세\n",
    "- 국민연금 : 원천징수 (종합과세)\n",
    "- 퇴직연금 : 퇴직소득세의 70% ~ 60%\n",
    "- 개인연금 : 5.5% - 3.3% 저율과세\n"
   ]
  },
  {
   "metadata": {
    "ExecuteTime": {
     "end_time": "2025-10-01T02:59:07.364309Z",
     "start_time": "2025-10-01T02:59:07.282887Z"
    }
   },
   "cell_type": "code",
   "source": [
    "import java.text.NumberFormat\n",
    "import java.util.Locale\n",
    "\n",
    "fun 공제율(급여 : Int): Double {\n",
    "    return if (급여 <= 5500_0000) 0.15 else 0.12\n",
    "}\n",
    "\n",
    "val 납입액 = 900_0000\n",
    "val 급여 = 1_0000_0000\n",
    "\n",
    "val 세액공제 = 납입액 * 공제율(급여)\n",
    "\n",
    "val formatter = NumberFormat.getCurrencyInstance(Locale.KOREA)\n",
    "\n",
    "println(\"연금 납입액: ${formatter.format(납입액)}\")\n",
    "println(\"세액공제: ${formatter.format(세액공제)}\")\n"
   ],
   "outputs": [
    {
     "name": "stdout",
     "output_type": "stream",
     "text": [
      "연금 납입액: ₩9,000,000\n",
      "세액공제: ₩1,080,000\n"
     ]
    }
   ],
   "execution_count": 5
  }
 ],
 "metadata": {
  "kernelspec": {
   "display_name": "Kotlin",
   "language": "kotlin",
   "name": "kotlin"
  },
  "language_info": {
   "name": "kotlin",
   "version": "2.2.20-Beta2",
   "mimetype": "text/x-kotlin",
   "file_extension": ".kt",
   "pygments_lexer": "kotlin",
   "codemirror_mode": "text/x-kotlin",
   "nbconvert_exporter": ""
  }
 },
 "nbformat": 4,
 "nbformat_minor": 0
}
